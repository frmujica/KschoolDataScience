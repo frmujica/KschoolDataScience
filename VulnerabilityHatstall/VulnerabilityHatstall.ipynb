{
 "cells": [
  {
   "cell_type": "markdown",
   "metadata": {
    "slideshow": {
     "slide_type": "slide"
    }
   },
   "source": [
    "# Vulnerability Hatstall\n",
    "\n",
    "![Categorization](figs/An-Illustrated-Guide-to-Categorizing-Yourself_HERO.png \"Logo\")"
   ]
  },
  {
   "cell_type": "markdown",
   "metadata": {
    "rise": {
     "theme": "sky"
    },
    "slideshow": {
     "slide_type": "slide"
    }
   },
   "source": [
    "# Objective\n",
    "\n",
    "Sorting vulnerabilities from different scanners using a machine learning model.\n",
    "\n",
    "![objective](figs/hatstall_project.png \"hatstall_project\")"
   ]
  },
  {
   "cell_type": "markdown",
   "metadata": {
    "slideshow": {
     "slide_type": "slide"
    }
   },
   "source": [
    "# Scope\n",
    "\n",
    "Due to bigness of this project, we are only classify all the vulnerabilities from Openvas, mainly because it is open source and its plugins can be downloaded from free.\n",
    "\n",
    "![objective](figs/hatstall_openvas.png \"Hatstall Openvas\")"
   ]
  },
  {
   "cell_type": "markdown",
   "metadata": {
    "slideshow": {
     "slide_type": "skip"
    }
   },
   "source": [
    "Currently there is a [dataset](https://www.kaggle.com/vsathiamoo/cve-common-vulnerabilities-and-exposures) in Kaggle and it compiles information about Common Vulnerabilities and Exposures(CVE) but that information normally comes in the tools plugins or databases and results, so it is not useful for our purposes. Also, there is a [kernel](https://www.kaggle.com/walterhaydock/cybersecurity-vulnerability-analysis-with-k-means) but they focus in vulnerabilities and our project want to focus on patching vulnerabilities.  \n",
    "\n",
    "Also, there are a lot of information about [vulnerability management](#References) however it is quite difficult to find information about how to do vulnerability management. Like many other topics there is not only one way to do vulnerability management nor the \"properly\" way to do it, so in this case we are going to implement the way we know it and it worked for us during long time. The steps we normally use are explained deeper in the [Reasons](#Reasons) section."
   ]
  },
  {
   "cell_type": "markdown",
   "metadata": {
    "slideshow": {
     "slide_type": "slide"
    }
   },
   "source": [
    "# Reasons"
   ]
  },
  {
   "cell_type": "markdown",
   "metadata": {
    "slideshow": {
     "slide_type": "fragment"
    }
   },
   "source": [
    "- Mainly because we need it in our job. We have been looking for the way to make vulnerability management easier.\n",
    "- Many companies work with a lot of vulnerabilities scanners, and this is the way to normalize the results for all of those tools.\n",
    "- We have never found anybody who works in something similar.\n",
    "- There are not many data-science projects about cybersecurity, just search in [kaggle](https://www.kaggle.com) \"cycbersecurity\" and you will found out.\n",
    "- It is a good way to practice data cleaning and wrangling and change our mind paradigm.\n",
    "- Because I want and I can 😜"
   ]
  },
  {
   "cell_type": "markdown",
   "metadata": {
    "slideshow": {
     "slide_type": "skip"
    }
   },
   "source": [
    "The main reason for working in this project is to make easier the vulnerability management. Many people thinks that it is simple as just as run a vulnerability scan and then just give a simple report to the responsible team for patching however there is nothing more wrong than that. Vulnerability management is very important activity to analyze those reports, one of those steps consist in **categorizing vulnerabilities in groups**, filter all the important one, then we have got to reduce false positives and group as much as possible the vulnerabilities that can be solved by the same patch to make the work easier for patching team. Probably, one of the most difficult job is to categorize all of those vulnerabilities, especially if you have got different tools that work and generate results in different ways.\n",
    "\n",
    "The scope of this project is only about categorizing vulnerabilities from [Openvas](http://www.openvas.org/) because the tool is open source and its data is open to public. this might be called the first \"subproject\" from a bigger one. Categorizing too many vulnerabilities could be an exhaustive work, especially if there come from many tools. \n",
    "\n",
    "Many people would think the scope of this project is quite short however we plan to go further and make this project much more elegant, in the future we want to implement this to other tools like [Qualys](https://www.qualys.com/) or [Insightvm](https://www.rapid7.com/products/insightvm/), we are also focusing only in \"plugins\" or \"knowledge database\" because we are not going to run any vulnerability scan and we do not have the resources and open data to do this, imagine that nobody who has common sense is going to public their vulnerabilities to Internet, that is going to make hackers' job easier. However our job is going to be useful because companies will be able to join their vulnerabilities results with the output we generated and they can enrich their results with the data we categorized. Also we plan to use analytics and/or other machine learning models that can suggest to patching team things like \"Close port 8900 on this servers and you will be less vulnerable to Elastic vulnerabilities\"."
   ]
  },
  {
   "cell_type": "markdown",
   "metadata": {
    "slideshow": {
     "slide_type": "slide"
    }
   },
   "source": [
    "# Data\n",
    "\n",
    "- We are going to work with official feeds from Openvas, data is public.\n",
    "\n",
    "![Data](figs/catching_openvas.png \"OpenvasData\")"
   ]
  },
  {
   "cell_type": "markdown",
   "metadata": {
    "slideshow": {
     "slide_type": "skip"
    }
   },
   "source": [
    "We are going to work with Openvas because it is free and open source scanner, data is available for public, and it can be downloaded from its [official web](http://dl.greenbone.net/community-nvt-feed-current.tar.bz2). \n",
    "\n",
    "Data is subdivided in different folders and sub-folders, I worked in a python Script in the past that used to go through those folders, read the different files, look for an unique id and categorize those vulnerabilities with regular expressions and string functions, apply a categorization and then write the output in a csv file. The current script works quite good but I strongly think a machine learning model would work much better."
   ]
  },
  {
   "cell_type": "markdown",
   "metadata": {
    "slideshow": {
     "slide_type": "skip"
    }
   },
   "source": [
    "These are the categories I create with the current script: \n",
    "\n",
    "#### Useful categories for vulnerability management\n",
    "\n",
    "- Update or patch installation\n",
    "- End of life Platform\n",
    "- Informational\n",
    "- Workaround\n",
    "- No solution or patch available\n",
    "- Configuration changes\n",
    "\n",
    "#### Categories that belongs only to Openvas but are not useful for vulnerability management.\n",
    "\n",
    "- To classify\n",
    "- GSHB Family\n",
    "- NMAP Family"
   ]
  },
  {
   "cell_type": "code",
   "execution_count": 45,
   "metadata": {
    "slideshow": {
     "slide_type": "skip"
    }
   },
   "outputs": [],
   "source": [
    "def get_block_of_text(start, end, file_object):\n",
    "    \"\"\"Get just the block of text that we need it to create the dataset\"\"\"\n",
    "    recording_mode = False\n",
    "    for line in file_object:\n",
    "        if not recording_mode:\n",
    "            if line.decode().replace(' ', '').rstrip().startswith(start):\n",
    "                recording_mode = True\n",
    "        elif line.decode().rstrip().replace(' ', '').rstrip().startswith(end):\n",
    "            recording_mode = False\n",
    "        else:\n",
    "            yield line"
   ]
  },
  {
   "cell_type": "markdown",
   "metadata": {
    "slideshow": {
     "slide_type": "slide"
    }
   },
   "source": [
    "# Execution plan"
   ]
  },
  {
   "cell_type": "markdown",
   "metadata": {
    "slideshow": {
     "slide_type": "skip"
    }
   },
   "source": [
    "The most difficult and tedious work is the cleaning, the data come from different files divided in many directories and subdirectories. We are going to follow those steps: "
   ]
  },
  {
   "cell_type": "markdown",
   "metadata": {
    "slideshow": {
     "slide_type": "fragment"
    }
   },
   "source": [
    "1. Download the files from the [Openvas](http://dl.greenbone.net/community-nvt-feed-current.tar.bz2) web.\n",
    "2. Write a script that read every single raw document (plugin) and parse the data. We might spend 90% of the time here.\n",
    "3. Structure the data (JSON, CSV or SQL).\n",
    "4. Represent the [words in vectors](https://www.tensorflow.org/tutorials/representation/word2vec) or use [Bert](https://github.com/google-research/bert) as word embedding.\n",
    "5. Label the output with the categories showed in the [Data](#Data) section.\n",
    "6. Deal with \"oversampling\".\n",
    "7. Apply an explanatory classification supervised model. We got to choose between Naive Bayes, Logistic Regression or Tree desicion, or maybe all of them?.\n",
    "8. Test the model."
   ]
  },
  {
   "cell_type": "code",
   "execution_count": 44,
   "metadata": {
    "slideshow": {
     "slide_type": "subslide"
    }
   },
   "outputs": [
    {
     "name": "stdout",
     "output_type": "stream",
     "text": [
      "b'{\\n'\n",
      "b'  script_oid(\"1.3.6.1.4.1.25623.1.0.814805\");\\n'\n",
      "b'  script_version(\"$Revision: 13316 $\");\\n'\n",
      "b'  script_cve_id(\"CVE-2018-16011\", \"CVE-2018-16018\");\\n'\n",
      "b'  script_tag(name:\"cvss_base\", value:\"9.3\");\\n'\n",
      "b'  script_tag(name:\"cvss_base_vector\", value:\"AV:N/AC:M/Au:N/C:C/I:C/A:C\");\\n'\n",
      "b'  script_tag(name:\"last_modification\", value:\"$Date: 2019-01-28 08:41:51 +0100 (Mon, 28 Jan 2019) $\");\\n'\n",
      "b'  script_tag(name:\"creation_date\", value:\"2019-01-04 11:36:03 +0530 (Fri, 04 Jan 2019)\");\\n'\n",
      "b'\\n'\n",
      "b'  script_name(\"Adobe Acrobat 2017 Security Updates(apsb19-02)-Windows\");\\n'\n",
      "b'\\n'\n",
      "b'  script_tag(name:\"summary\", value:\"This host is installed with Adobe Acrobat 2017\\n'\n",
      "b'  and is prone to multiple vulnerabilities.\");\\n'\n",
      "b'\\n'\n",
      "b'  script_tag(name:\"vuldetect\", value:\"Checks if a vulnerable version is present\\n'\n",
      "b'  on the target host.\");\\n'\n",
      "b'\\n'\n",
      "b'  script_tag(name:\"insight\", value:\"Multiple flaws exist due to,\\n'\n",
      "b'\\n'\n",
      "b'  - Use after free error.\\n'\n",
      "b'\\n'\n",
      "b'  - Security bypass error.\");\\n'\n",
      "b'\\n'\n",
      "b'  script_tag(name:\"impact\", value:\"Successful exploitation will allow an\\n'\n",
      "b'  attacker to conduct arbitrary code execution in the context of the current\\n'\n",
      "b'  user and escalate privileges.\");\\n'\n",
      "b'\\n'\n",
      "b'  script_tag(name:\"affected\", value:\"Adobe Acrobat 2017 version 2017.011.30110\\n'\n",
      "b'  and earlier on Windows.\");\\n'\n",
      "b'\\n'\n",
      "b'  script_tag(name:\"solution\", value:\"Upgrade to Adobe Acrobat 2017.011.30113 or later.\\n'\n",
      "b'  For updates refer to Reference links.\");\\n'\n",
      "b'\\n'\n",
      "b'  script_tag(name:\"solution_type\", value:\"VendorFix\");\\n'\n",
      "b'  script_tag(name:\"qod_type\", value:\"registry\");\\n'\n",
      "b'  script_xref(name:\"URL\", value:\"https://helpx.adobe.com/security/products/acrobat/apsb19-02.html\");\\n'\n",
      "b'  script_xref(name:\"URL\", value:\"https://helpx.adobe.com\");\\n'\n",
      "b'  script_category(ACT_GATHER_INFO);\\n'\n",
      "b'  script_copyright(\"Copyright (C) 2019 Greenbone Networks GmbH\");\\n'\n",
      "b'  script_family(\"General\");\\n'\n",
      "b'  script_dependencies(\"secpod_adobe_prdts_detect_win.nasl\");\\n'\n",
      "b'  script_mandatory_keys(\"Adobe/Acrobat/Win/Ver\");\\n'\n",
      "b'  exit(0);\\n'\n",
      "b'}\\n'\n",
      "b'\\n'\n"
     ]
    }
   ],
   "source": [
    "with open('../PluginsCategorization/Openvas/Samples/gb_adobe_acrobat_2017_apsb19-02_win.nasl','rb') as filename:\n",
    "    myblock = get_block_of_text(\"if(description)\", \"include(\", filename)\n",
    "    for block in myblock:\n",
    "        print(block)"
   ]
  },
  {
   "cell_type": "code",
   "execution_count": 35,
   "metadata": {
    "slideshow": {
     "slide_type": "subslide"
    }
   },
   "outputs": [
    {
     "data": {
      "text/html": [
       "<div>\n",
       "<style scoped>\n",
       "    .dataframe tbody tr th:only-of-type {\n",
       "        vertical-align: middle;\n",
       "    }\n",
       "\n",
       "    .dataframe tbody tr th {\n",
       "        vertical-align: top;\n",
       "    }\n",
       "\n",
       "    .dataframe thead th {\n",
       "        text-align: right;\n",
       "    }\n",
       "</style>\n",
       "<table border=\"1\" class=\"dataframe\">\n",
       "  <thead>\n",
       "    <tr style=\"text-align: right;\">\n",
       "      <th></th>\n",
       "      <th>OID</th>\n",
       "      <th>SolutionCategory</th>\n",
       "      <th>PluginFile</th>\n",
       "      <th>PluginFamily</th>\n",
       "    </tr>\n",
       "  </thead>\n",
       "  <tbody>\n",
       "    <tr>\n",
       "      <th>1291</th>\n",
       "      <td>812657</td>\n",
       "      <td>ToDiscard</td>\n",
       "      <td>gb_master_ip_camera01_detect.nasl</td>\n",
       "      <td>Product detection</td>\n",
       "    </tr>\n",
       "    <tr>\n",
       "      <th>11157</th>\n",
       "      <td>103608</td>\n",
       "      <td>ToClassify</td>\n",
       "      <td>gb_dotProject_lfi_11_12.nasl</td>\n",
       "      <td>Web application abuses</td>\n",
       "    </tr>\n",
       "    <tr>\n",
       "      <th>28943</th>\n",
       "      <td>803513</td>\n",
       "      <td>ToClassify</td>\n",
       "      <td>gb_nmap6_http_malware_host.nasl</td>\n",
       "      <td>Nmap NSE</td>\n",
       "    </tr>\n",
       "    <tr>\n",
       "      <th>23500</th>\n",
       "      <td>122863</td>\n",
       "      <td>Patch installation</td>\n",
       "      <td>ELSA-2016-0074.nasl</td>\n",
       "      <td>Oracle Linux Local Security Checks</td>\n",
       "    </tr>\n",
       "    <tr>\n",
       "      <th>42450</th>\n",
       "      <td>863399</td>\n",
       "      <td>Patch installation</td>\n",
       "      <td>gb_fedora_2011_9652_system-config-firewall_fc1...</td>\n",
       "      <td>Fedora Local Security Checks</td>\n",
       "    </tr>\n",
       "  </tbody>\n",
       "</table>\n",
       "</div>"
      ],
      "text/plain": [
       "          OID    SolutionCategory  \\\n",
       "1291   812657           ToDiscard   \n",
       "11157  103608          ToClassify   \n",
       "28943  803513          ToClassify   \n",
       "23500  122863  Patch installation   \n",
       "42450  863399  Patch installation   \n",
       "\n",
       "                                              PluginFile  \\\n",
       "1291                   gb_master_ip_camera01_detect.nasl   \n",
       "11157                       gb_dotProject_lfi_11_12.nasl   \n",
       "28943                    gb_nmap6_http_malware_host.nasl   \n",
       "23500                                ELSA-2016-0074.nasl   \n",
       "42450  gb_fedora_2011_9652_system-config-firewall_fc1...   \n",
       "\n",
       "                             PluginFamily  \n",
       "1291                    Product detection  \n",
       "11157              Web application abuses  \n",
       "28943                            Nmap NSE  \n",
       "23500  Oracle Linux Local Security Checks  \n",
       "42450        Fedora Local Security Checks  "
      ]
     },
     "execution_count": 35,
     "metadata": {},
     "output_type": "execute_result"
    }
   ],
   "source": [
    "import pandas as pd\n",
    "openvas_df = pd.read_csv('../PluginsCategorization/Openvas/Output/OpenvasSample.csv')\n",
    "openvas_df.sample(5)"
   ]
  },
  {
   "cell_type": "code",
   "execution_count": 24,
   "metadata": {
    "slideshow": {
     "slide_type": "subslide"
    }
   },
   "outputs": [
    {
     "data": {
      "image/png": "[encoded data removed]",
      "text/plain": [
       "<Figure size 432x288 with 1 Axes>"
      ]
     },
     "metadata": {
      "needs_background": "light"
     },
     "output_type": "display_data"
    }
   ],
   "source": [
    "openvas_df.groupby(['SolutionCategory']).count().loc[:,['OID']].plot.bar();"
   ]
  },
  {
   "cell_type": "markdown",
   "metadata": {
    "slideshow": {
     "slide_type": "slide"
    }
   },
   "source": [
    "# Tools\n",
    "![Categorization](figs/toolsdia.png \"Logo\")"
   ]
  },
  {
   "cell_type": "markdown",
   "metadata": {
    "slideshow": {
     "slide_type": "subslide"
    }
   },
   "source": [
    "![R](figs/r-code-or-alien-language.jpg \"R\")"
   ]
  },
  {
   "cell_type": "markdown",
   "metadata": {
    "slideshow": {
     "slide_type": "skip"
    }
   },
   "source": [
    "## Main Tools\n",
    "\n",
    "- Python as programming language. (**F\\*\\* \"R\"**)\n",
    "- Jupyter\n",
    "- Altair for visualizations\n",
    "- Machine Learning framework (Keras or Sklearn)\n",
    "\n",
    "## Contingency tools\n",
    "\n",
    "- Splunk for cleaning and visualization.\n",
    "- Gemsim for NLP."
   ]
  },
  {
   "cell_type": "markdown",
   "metadata": {
    "slideshow": {
     "slide_type": "skip"
    }
   },
   "source": [
    "We plan to use python (**F\\*\\* \"R\"**) as programming language and other open source tools to commit our achievement. We also might use [Splunk](https://www.splunk.com) to speed the cleaning data work because we have been working with Splunk for years and we know how to use it perfectly, we might use it to make some operations that can be more difficult to do with pandas, however our priority are opensource tools.\n",
    "\n",
    "We might use [Gemsim](https://radimrehurek.com/gensim/index.html) to work in semantic words."
   ]
  },
  {
   "cell_type": "markdown",
   "metadata": {
    "slideshow": {
     "slide_type": "slide"
    }
   },
   "source": [
    "# References\n",
    "- http://www.lmgtfy.com/?q=vulnerability+management\n",
    "- https://whatis.techtarget.com/definition/Vulnerability_management\n",
    "- https://www.tripwire.com/state-of-security/vulnerability-management/what-is-vulnerability-management-anyway/\n",
    "- https://www.kaggle.com/vsathiamoo/cve-common-vulnerabilities-and-exposures\n",
    "- https://www.kaggle.com/walterhaydock/cybersecurity-vulnerability-analysis-with-k-means"
   ]
  },
  {
   "cell_type": "markdown",
   "metadata": {
    "slideshow": {
     "slide_type": "subslide"
    }
   },
   "source": [
    "# Ham for teacher\n",
    "![Categorization](figs/jamónprofe.jpg \"Ham\")"
   ]
  }
 ],
 "metadata": {
  "celltoolbar": "Slideshow",
  "kernelspec": {
   "display_name": "Python 3",
   "language": "python",
   "name": "python3"
  },
  "language_info": {
   "codemirror_mode": {
    "name": "ipython",
    "version": 3
   },
   "file_extension": ".py",
   "mimetype": "text/x-python",
   "name": "python",
   "nbconvert_exporter": "python",
   "pygments_lexer": "ipython3",
   "version": "3.6.8"
  }
 },
 "nbformat": 4,
 "nbformat_minor": 2
}
